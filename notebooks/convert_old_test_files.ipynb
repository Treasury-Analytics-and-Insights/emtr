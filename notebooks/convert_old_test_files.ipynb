{
 "cells": [
  {
   "cell_type": "code",
   "execution_count": 1,
   "metadata": {},
   "outputs": [],
   "source": [
    "import pandas as pd\n"
   ]
  },
  {
   "cell_type": "code",
   "execution_count": 18,
   "metadata": {},
   "outputs": [],
   "source": [
    "REQUIRED_OUTPUTS = [\n",
    "    'gross_wage1', 'hours1', 'gross_wage1_annual', 'gross_wage2', 'wage2_tax', \n",
    "    'wage2_acc_levy', 'net_wage2', 'net_benefit2', 'gross_benefit2', 'ietc_abated1',\n",
    "    'ietc_abated2', 'net_benefit1', 'gross_benefit1', 'wage1_tax', 'wage1_acc_levy',\n",
    "    'net_wage1', 'ftc_unabated', 'mftc', 'abate_amount', 'winter_energy', 'as_amount',\n",
    "    'net_income', 'emtr', 'replacement_rate', \n",
    "    'participation_tax_rate', 'ftc_abated', 'iwtc_abated', 'bs_total']\n",
    "ref_path = '../test/ref/emtr_output_1.csv'"
   ]
  },
  {
   "cell_type": "code",
   "execution_count": 3,
   "metadata": {},
   "outputs": [],
   "source": [
    "ref_data = pd.read_csv(ref_path)"
   ]
  },
  {
   "cell_type": "code",
   "execution_count": 5,
   "metadata": {},
   "outputs": [],
   "source": [
    "ref_data.columns = [c.lower() for c in ref_data.columns]"
   ]
  },
  {
   "cell_type": "code",
   "execution_count": 6,
   "metadata": {},
   "outputs": [
    {
     "data": {
      "text/plain": [
       "Index(['gross_wage1', 'hours1', 'gross_wage1_annual', 'gross_wage2',\n",
       "       'wage2_tax', 'wage2_acc_levy', 'net_wage2', 'net_benefit2',\n",
       "       'gross_benefit2', 'eitc_abated', 'ietc_abated1', 'ietc_abated2',\n",
       "       'net_benefit1_and_lap', 'net_benefit1', 'net_lap', 'iwtc_unabated',\n",
       "       'gross_benefit1_and_lap', 'gross_benefit1', 'gross_lap',\n",
       "       'gross_benefit_and_wage1', 'net_benefit_and_wage1', 'wage1_tax',\n",
       "       'wage1_acc_levy', 'net_wage1', 'ftc_unabated', 'mftc', 'abateamount',\n",
       "       'ftc_abated', 'iwtc_abated', 'beststart_universal', 'beststart_abated',\n",
       "       'beststart_total', 'winterenergy', 'as_amount', 'net_income', 'emtr',\n",
       "       'replacement_rate', 'participation_tax_rate', 'equivalised_income',\n",
       "       'bhc_depth', 'ahc_net_income', 'ahc_equivalised_income', 'ahc_depth',\n",
       "       'bhc_unequiv_poverty_line', 'ahc_unequiv_poverty_line', 'eq_factor'],\n",
       "      dtype='object')"
      ]
     },
     "execution_count": 6,
     "metadata": {},
     "output_type": "execute_result"
    }
   ],
   "source": [
    "ref_data.columns"
   ]
  },
  {
   "cell_type": "code",
   "execution_count": 7,
   "metadata": {},
   "outputs": [
    {
     "data": {
      "text/plain": [
       "{'as_amount',\n",
       " 'emtr',\n",
       " 'ftc_abated',\n",
       " 'ftc_unabated',\n",
       " 'gross_benefit1',\n",
       " 'gross_benefit2',\n",
       " 'gross_wage1',\n",
       " 'gross_wage1_annual',\n",
       " 'gross_wage2',\n",
       " 'hours1',\n",
       " 'ietc_abated1',\n",
       " 'ietc_abated2',\n",
       " 'iwtc_abated',\n",
       " 'mftc',\n",
       " 'net_benefit1',\n",
       " 'net_benefit2',\n",
       " 'net_income',\n",
       " 'net_wage1',\n",
       " 'net_wage2',\n",
       " 'participation_tax_rate',\n",
       " 'replacement_rate',\n",
       " 'wage1_acc_levy',\n",
       " 'wage1_tax',\n",
       " 'wage2_acc_levy',\n",
       " 'wage2_tax'}"
      ]
     },
     "execution_count": 7,
     "metadata": {},
     "output_type": "execute_result"
    }
   ],
   "source": [
    "set(REQUIRED_OUTPUTS).intersection(set(ref_data.columns))"
   ]
  },
  {
   "cell_type": "code",
   "execution_count": 9,
   "metadata": {},
   "outputs": [
    {
     "data": {
      "text/plain": [
       "{'abate_amount', 'annual_net_income', 'bs_total', 'winter_energy'}"
      ]
     },
     "execution_count": 9,
     "metadata": {},
     "output_type": "execute_result"
    }
   ],
   "source": [
    "#find the items in REQUIRED_OUTPUTS that are not in ref_data\n",
    "set(REQUIRED_OUTPUTS) - set(ref_data.columns)"
   ]
  },
  {
   "cell_type": "code",
   "execution_count": 16,
   "metadata": {},
   "outputs": [],
   "source": [
    "# rename the abateamount, beststart and winterenergy columns in refdata to 'abate_amount', 'bs_total', 'winter_energy'\n",
    "ref_data.rename(columns = {'abateamount': 'abate_amount', 'beststart_total': 'bs_total', 'winterenergy': 'winter_energy'}, inplace=True)"
   ]
  },
  {
   "cell_type": "code",
   "execution_count": 19,
   "metadata": {},
   "outputs": [
    {
     "data": {
      "text/plain": [
       "set()"
      ]
     },
     "execution_count": 19,
     "metadata": {},
     "output_type": "execute_result"
    }
   ],
   "source": [
    "set(REQUIRED_OUTPUTS) - set(ref_data.columns)"
   ]
  },
  {
   "cell_type": "code",
   "execution_count": 20,
   "metadata": {},
   "outputs": [],
   "source": [
    "extra_cols = set(ref_data.columns) - set(REQUIRED_OUTPUTS)"
   ]
  },
  {
   "cell_type": "code",
   "execution_count": 21,
   "metadata": {},
   "outputs": [
    {
     "data": {
      "text/plain": [
       "{'ahc_depth',\n",
       " 'ahc_equivalised_income',\n",
       " 'ahc_net_income',\n",
       " 'ahc_unequiv_poverty_line',\n",
       " 'beststart_abated',\n",
       " 'beststart_universal',\n",
       " 'bhc_depth',\n",
       " 'bhc_unequiv_poverty_line',\n",
       " 'eitc_abated',\n",
       " 'eq_factor',\n",
       " 'equivalised_income',\n",
       " 'gross_benefit1_and_lap',\n",
       " 'gross_benefit_and_wage1',\n",
       " 'gross_lap',\n",
       " 'iwtc_unabated',\n",
       " 'net_benefit1_and_lap',\n",
       " 'net_benefit_and_wage1',\n",
       " 'net_lap'}"
      ]
     },
     "execution_count": 21,
     "metadata": {},
     "output_type": "execute_result"
    }
   ],
   "source": [
    "extra_cols"
   ]
  },
  {
   "cell_type": "code",
   "execution_count": 22,
   "metadata": {},
   "outputs": [],
   "source": [
    "ref_data.drop(columns=extra_cols, inplace=True)"
   ]
  },
  {
   "cell_type": "code",
   "execution_count": 23,
   "metadata": {},
   "outputs": [],
   "source": [
    "assert(set(ref_data.columns) == set(REQUIRED_OUTPUTS))"
   ]
  },
  {
   "cell_type": "code",
   "execution_count": 25,
   "metadata": {},
   "outputs": [],
   "source": [
    "ref_data.to_csv('../test/ref/emtr_output_1_new.csv', index=False)"
   ]
  },
  {
   "cell_type": "code",
   "execution_count": 14,
   "metadata": {},
   "outputs": [
    {
     "data": {
      "text/plain": [
       "Index(['gross_wage1', 'hours1', 'gross_wage1_annual', 'gross_wage2',\n",
       "       'wage2_tax', 'wage2_acc_levy', 'net_wage2', 'net_benefit2',\n",
       "       'gross_benefit2', 'eitc_abated', 'ietc_abated1', 'ietc_abated2',\n",
       "       'net_benefit1_and_lap', 'net_benefit1', 'net_lap', 'iwtc_unabated',\n",
       "       'gross_benefit1_and_lap', 'gross_benefit1', 'gross_lap',\n",
       "       'gross_benefit_and_wage1', 'net_benefit_and_wage1', 'wage1_tax',\n",
       "       'wage1_acc_levy', 'net_wage1', 'ftc_unabated', 'mftc', 'abateamount',\n",
       "       'ftc_abated', 'iwtc_abated', 'beststart_universal', 'beststart_abated',\n",
       "       'beststart_total', 'winterenergy', 'as_amount', 'net_income', 'emtr',\n",
       "       'replacement_rate', 'participation_tax_rate', 'equivalised_income',\n",
       "       'bhc_depth', 'ahc_net_income', 'ahc_equivalised_income', 'ahc_depth',\n",
       "       'bhc_unequiv_poverty_line', 'ahc_unequiv_poverty_line', 'eq_factor'],\n",
       "      dtype='object')"
      ]
     },
     "execution_count": 14,
     "metadata": {},
     "output_type": "execute_result"
    }
   ],
   "source": [
    "ref_data.columns"
   ]
  },
  {
   "cell_type": "code",
   "execution_count": 27,
   "metadata": {},
   "outputs": [
    {
     "data": {
      "text/plain": [
       "0            NaN\n",
       "1       0.188900\n",
       "2       0.188900\n",
       "3       0.188900\n",
       "4       0.188900\n",
       "          ...   \n",
       "1896    0.744679\n",
       "1897    0.744600\n",
       "1898    0.744520\n",
       "1899    0.744441\n",
       "1900    0.744362\n",
       "Name: participation_tax_rate, Length: 1901, dtype: float64"
      ]
     },
     "execution_count": 27,
     "metadata": {},
     "output_type": "execute_result"
    }
   ],
   "source": [
    "ref_data.participation_tax_rate"
   ]
  }
 ],
 "metadata": {
  "kernelspec": {
   "display_name": "Python 3",
   "language": "python",
   "name": "python3"
  },
  "language_info": {
   "codemirror_mode": {
    "name": "ipython",
    "version": 3
   },
   "file_extension": ".py",
   "mimetype": "text/x-python",
   "name": "python",
   "nbconvert_exporter": "python",
   "pygments_lexer": "ipython3",
   "version": "3.11.4"
  },
  "orig_nbformat": 4
 },
 "nbformat": 4,
 "nbformat_minor": 2
}
